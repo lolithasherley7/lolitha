{
 "cells": [
  {
   "cell_type": "code",
   "execution_count": 1,
   "metadata": {},
   "outputs": [],
   "source": [
    "import pandas as pd\n",
    "import numpy as np #using numpy to create null value."
   ]
  },
  {
   "cell_type": "markdown",
   "metadata": {},
   "source": [
    "#### How to create dataframe and series?"
   ]
  },
  {
   "cell_type": "code",
   "execution_count": 2,
   "metadata": {},
   "outputs": [
    {
     "name": "stdout",
     "output_type": "stream",
     "text": [
      "0     1.0\n",
      "1     2.0\n",
      "2     3.0\n",
      "3     4.0\n",
      "4    56.0\n",
      "5     NaN\n",
      "6     7.0\n",
      "7     8.0\n",
      "8    90.0\n",
      "dtype: float64\n"
     ]
    }
   ],
   "source": [
    "s = pd.Series([1,2,3,4,56,np.nan,7,8,90])\n",
    "print(s)"
   ]
  },
  {
   "cell_type": "markdown",
   "metadata": {},
   "source": [
    "How to create dataframe using numpy array?"
   ]
  },
  {
   "cell_type": "code",
   "execution_count": 3,
   "metadata": {},
   "outputs": [
    {
     "name": "stdout",
     "output_type": "stream",
     "text": [
      "DatetimeIndex(['2020-08-09', '2020-08-10', '2020-08-11', '2020-08-12',\n",
      "               '2020-08-13', '2020-08-14', '2020-08-15', '2020-08-16',\n",
      "               '2020-08-17', '2020-08-18', '2020-08-19', '2020-08-20',\n",
      "               '2020-08-21', '2020-08-22', '2020-08-23'],\n",
      "              dtype='datetime64[ns]', freq='D')\n"
     ]
    }
   ],
   "source": [
    "#Creating dataframe by passing numpy array day, time index and numpy column.\n",
    "d= pd.date_range('20200809',periods=15)\n",
    "print(d)"
   ]
  },
  {
   "cell_type": "code",
   "execution_count": 4,
   "metadata": {},
   "outputs": [
    {
     "name": "stdout",
     "output_type": "stream",
     "text": [
      "                   A         B         C         D\n",
      "2020-08-09 -0.063109  0.033413 -0.950350  0.861121\n",
      "2020-08-10  0.557190  1.288908 -0.328370  1.842016\n",
      "2020-08-11 -0.025799 -0.062010  0.308710  0.724017\n",
      "2020-08-12  1.527269 -1.129029  0.805953 -1.353373\n",
      "2020-08-13  0.696484 -0.220882 -1.300639  0.488143\n",
      "2020-08-14  0.515347 -0.688517 -1.812345  0.820713\n",
      "2020-08-15 -0.972182  1.093194  1.262247  0.422453\n",
      "2020-08-16 -0.038773 -1.365450 -1.338075 -1.371267\n",
      "2020-08-17  0.455024  0.276002  0.621480 -1.196483\n",
      "2020-08-18  1.063829  0.077480  0.160244 -1.149531\n",
      "2020-08-19 -0.219263 -0.767491 -0.109353  0.987076\n",
      "2020-08-20 -0.760085  1.577133  0.099713  0.207894\n",
      "2020-08-21 -1.096628  0.480383  0.479541 -0.008524\n",
      "2020-08-22  1.502934 -0.765087  1.047706 -1.672914\n",
      "2020-08-23 -0.994268  0.607074  1.268662 -0.123366\n"
     ]
    }
   ],
   "source": [
    "df = pd.DataFrame(np.random.randn(15,4), index= d, columns = ['A','B','C','D'])\n",
    "print(df)"
   ]
  },
  {
   "cell_type": "markdown",
   "metadata": {},
   "source": [
    "##### How to create dataframe by passing dictionary of objects?\n",
    "it can be converted in to series too"
   ]
  },
  {
   "cell_type": "code",
   "execution_count": 5,
   "metadata": {},
   "outputs": [
    {
     "name": "stdout",
     "output_type": "stream",
     "text": [
      "   A          B    C  D        E\n",
      "0  1 2020-08-09  1.0  5  Lolitha\n",
      "1  2 2020-08-09  1.0  5  Lolitha\n",
      "2  3 2020-08-09  1.0  5  Lolitha\n",
      "3  4 2020-08-09  1.0  5  Lolitha\n"
     ]
    }
   ],
   "source": [
    "df1 = pd.DataFrame({'A':[1,2,3,4],\n",
    "                  'B': pd.Timestamp('20200809'),\n",
    "                  'C': pd.Series(1, index= list(range(4)), dtype='float32'),\n",
    "                  'D':np.array([5]*4, dtype= 'int32'),\n",
    "                  'E':\"Lolitha\"})\n",
    "print(df1)"
   ]
  },
  {
   "cell_type": "code",
   "execution_count": 6,
   "metadata": {},
   "outputs": [
    {
     "data": {
      "text/plain": [
       "A             int64\n",
       "B    datetime64[ns]\n",
       "C           float32\n",
       "D             int32\n",
       "E            object\n",
       "dtype: object"
      ]
     },
     "execution_count": 6,
     "metadata": {},
     "output_type": "execute_result"
    }
   ],
   "source": [
    "#How to find datatypes of a dataframe?\n",
    "df1.dtypes"
   ]
  },
  {
   "cell_type": "markdown",
   "metadata": {},
   "source": [
    "How to get first and last five values in the data frame"
   ]
  },
  {
   "cell_type": "code",
   "execution_count": 7,
   "metadata": {},
   "outputs": [
    {
     "data": {
      "text/plain": [
       "A             int64\n",
       "B    datetime64[ns]\n",
       "C           float32\n",
       "D             int32\n",
       "E            object\n",
       "dtype: object"
      ]
     },
     "execution_count": 7,
     "metadata": {},
     "output_type": "execute_result"
    }
   ],
   "source": [
    "df1.dtypes\n"
   ]
  },
  {
   "cell_type": "code",
   "execution_count": 8,
   "metadata": {},
   "outputs": [
    {
     "data": {
      "text/html": [
       "<div>\n",
       "<style scoped>\n",
       "    .dataframe tbody tr th:only-of-type {\n",
       "        vertical-align: middle;\n",
       "    }\n",
       "\n",
       "    .dataframe tbody tr th {\n",
       "        vertical-align: top;\n",
       "    }\n",
       "\n",
       "    .dataframe thead th {\n",
       "        text-align: right;\n",
       "    }\n",
       "</style>\n",
       "<table border=\"1\" class=\"dataframe\">\n",
       "  <thead>\n",
       "    <tr style=\"text-align: right;\">\n",
       "      <th></th>\n",
       "      <th>A</th>\n",
       "      <th>B</th>\n",
       "      <th>C</th>\n",
       "      <th>D</th>\n",
       "    </tr>\n",
       "  </thead>\n",
       "  <tbody>\n",
       "    <tr>\n",
       "      <th>2020-08-09</th>\n",
       "      <td>-0.063109</td>\n",
       "      <td>0.033413</td>\n",
       "      <td>-0.950350</td>\n",
       "      <td>0.861121</td>\n",
       "    </tr>\n",
       "    <tr>\n",
       "      <th>2020-08-10</th>\n",
       "      <td>0.557190</td>\n",
       "      <td>1.288908</td>\n",
       "      <td>-0.328370</td>\n",
       "      <td>1.842016</td>\n",
       "    </tr>\n",
       "    <tr>\n",
       "      <th>2020-08-11</th>\n",
       "      <td>-0.025799</td>\n",
       "      <td>-0.062010</td>\n",
       "      <td>0.308710</td>\n",
       "      <td>0.724017</td>\n",
       "    </tr>\n",
       "    <tr>\n",
       "      <th>2020-08-12</th>\n",
       "      <td>1.527269</td>\n",
       "      <td>-1.129029</td>\n",
       "      <td>0.805953</td>\n",
       "      <td>-1.353373</td>\n",
       "    </tr>\n",
       "    <tr>\n",
       "      <th>2020-08-13</th>\n",
       "      <td>0.696484</td>\n",
       "      <td>-0.220882</td>\n",
       "      <td>-1.300639</td>\n",
       "      <td>0.488143</td>\n",
       "    </tr>\n",
       "  </tbody>\n",
       "</table>\n",
       "</div>"
      ],
      "text/plain": [
       "                   A         B         C         D\n",
       "2020-08-09 -0.063109  0.033413 -0.950350  0.861121\n",
       "2020-08-10  0.557190  1.288908 -0.328370  1.842016\n",
       "2020-08-11 -0.025799 -0.062010  0.308710  0.724017\n",
       "2020-08-12  1.527269 -1.129029  0.805953 -1.353373\n",
       "2020-08-13  0.696484 -0.220882 -1.300639  0.488143"
      ]
     },
     "execution_count": 8,
     "metadata": {},
     "output_type": "execute_result"
    }
   ],
   "source": [
    "df.head()"
   ]
  },
  {
   "cell_type": "code",
   "execution_count": 9,
   "metadata": {},
   "outputs": [
    {
     "data": {
      "text/html": [
       "<div>\n",
       "<style scoped>\n",
       "    .dataframe tbody tr th:only-of-type {\n",
       "        vertical-align: middle;\n",
       "    }\n",
       "\n",
       "    .dataframe tbody tr th {\n",
       "        vertical-align: top;\n",
       "    }\n",
       "\n",
       "    .dataframe thead th {\n",
       "        text-align: right;\n",
       "    }\n",
       "</style>\n",
       "<table border=\"1\" class=\"dataframe\">\n",
       "  <thead>\n",
       "    <tr style=\"text-align: right;\">\n",
       "      <th></th>\n",
       "      <th>A</th>\n",
       "      <th>B</th>\n",
       "      <th>C</th>\n",
       "      <th>D</th>\n",
       "    </tr>\n",
       "  </thead>\n",
       "  <tbody>\n",
       "    <tr>\n",
       "      <th>2020-08-19</th>\n",
       "      <td>-0.219263</td>\n",
       "      <td>-0.767491</td>\n",
       "      <td>-0.109353</td>\n",
       "      <td>0.987076</td>\n",
       "    </tr>\n",
       "    <tr>\n",
       "      <th>2020-08-20</th>\n",
       "      <td>-0.760085</td>\n",
       "      <td>1.577133</td>\n",
       "      <td>0.099713</td>\n",
       "      <td>0.207894</td>\n",
       "    </tr>\n",
       "    <tr>\n",
       "      <th>2020-08-21</th>\n",
       "      <td>-1.096628</td>\n",
       "      <td>0.480383</td>\n",
       "      <td>0.479541</td>\n",
       "      <td>-0.008524</td>\n",
       "    </tr>\n",
       "    <tr>\n",
       "      <th>2020-08-22</th>\n",
       "      <td>1.502934</td>\n",
       "      <td>-0.765087</td>\n",
       "      <td>1.047706</td>\n",
       "      <td>-1.672914</td>\n",
       "    </tr>\n",
       "    <tr>\n",
       "      <th>2020-08-23</th>\n",
       "      <td>-0.994268</td>\n",
       "      <td>0.607074</td>\n",
       "      <td>1.268662</td>\n",
       "      <td>-0.123366</td>\n",
       "    </tr>\n",
       "  </tbody>\n",
       "</table>\n",
       "</div>"
      ],
      "text/plain": [
       "                   A         B         C         D\n",
       "2020-08-19 -0.219263 -0.767491 -0.109353  0.987076\n",
       "2020-08-20 -0.760085  1.577133  0.099713  0.207894\n",
       "2020-08-21 -1.096628  0.480383  0.479541 -0.008524\n",
       "2020-08-22  1.502934 -0.765087  1.047706 -1.672914\n",
       "2020-08-23 -0.994268  0.607074  1.268662 -0.123366"
      ]
     },
     "execution_count": 9,
     "metadata": {},
     "output_type": "execute_result"
    }
   ],
   "source": [
    "df.tail()"
   ]
  },
  {
   "cell_type": "code",
   "execution_count": 11,
   "metadata": {},
   "outputs": [
    {
     "data": {
      "text/plain": [
       "DatetimeIndex(['2020-08-09', '2020-08-10', '2020-08-11', '2020-08-12',\n",
       "               '2020-08-13', '2020-08-14', '2020-08-15', '2020-08-16',\n",
       "               '2020-08-17', '2020-08-18', '2020-08-19', '2020-08-20',\n",
       "               '2020-08-21', '2020-08-22', '2020-08-23'],\n",
       "              dtype='datetime64[ns]', freq='D')"
      ]
     },
     "execution_count": 11,
     "metadata": {},
     "output_type": "execute_result"
    }
   ],
   "source": [
    "df.index"
   ]
  },
  {
   "cell_type": "code",
   "execution_count": 12,
   "metadata": {},
   "outputs": [
    {
     "data": {
      "text/plain": [
       "Index(['A', 'B', 'C', 'D'], dtype='object')"
      ]
     },
     "execution_count": 12,
     "metadata": {},
     "output_type": "execute_result"
    }
   ],
   "source": [
    "df.columns"
   ]
  },
  {
   "cell_type": "code",
   "execution_count": 13,
   "metadata": {},
   "outputs": [
    {
     "data": {
      "text/plain": [
       "array([[-0.06310851,  0.03341279, -0.95035025,  0.86112078],\n",
       "       [ 0.55719042,  1.28890815, -0.32836985,  1.84201584],\n",
       "       [-0.0257993 , -0.06201014,  0.30870965,  0.72401657],\n",
       "       [ 1.52726866, -1.129029  ,  0.80595347, -1.35337271],\n",
       "       [ 0.69648358, -0.22088212, -1.30063882,  0.48814317],\n",
       "       [ 0.51534709, -0.68851738, -1.81234453,  0.8207131 ],\n",
       "       [-0.97218214,  1.09319361,  1.26224717,  0.42245313],\n",
       "       [-0.03877325, -1.36545026, -1.33807463, -1.37126655],\n",
       "       [ 0.45502421,  0.27600216,  0.62147997, -1.19648303],\n",
       "       [ 1.06382882,  0.07747985,  0.16024391, -1.14953123],\n",
       "       [-0.2192631 , -0.76749076, -0.10935279,  0.98707593],\n",
       "       [-0.76008474,  1.57713258,  0.09971311,  0.20789388],\n",
       "       [-1.09662786,  0.48038258,  0.47954085, -0.00852444],\n",
       "       [ 1.50293422, -0.76508666,  1.0477063 , -1.67291403],\n",
       "       [-0.99426819,  0.60707443,  1.268662  , -0.12336604]])"
      ]
     },
     "execution_count": 13,
     "metadata": {},
     "output_type": "execute_result"
    }
   ],
   "source": [
    "df.to_numpy()"
   ]
  },
  {
   "cell_type": "code",
   "execution_count": 17,
   "metadata": {},
   "outputs": [
    {
     "data": {
      "text/html": [
       "<div>\n",
       "<style scoped>\n",
       "    .dataframe tbody tr th:only-of-type {\n",
       "        vertical-align: middle;\n",
       "    }\n",
       "\n",
       "    .dataframe tbody tr th {\n",
       "        vertical-align: top;\n",
       "    }\n",
       "\n",
       "    .dataframe thead th {\n",
       "        text-align: right;\n",
       "    }\n",
       "</style>\n",
       "<table border=\"1\" class=\"dataframe\">\n",
       "  <thead>\n",
       "    <tr style=\"text-align: right;\">\n",
       "      <th></th>\n",
       "      <th>A</th>\n",
       "      <th>B</th>\n",
       "      <th>C</th>\n",
       "      <th>D</th>\n",
       "    </tr>\n",
       "  </thead>\n",
       "  <tbody>\n",
       "    <tr>\n",
       "      <th>2020-08-09</th>\n",
       "      <td>-0.063109</td>\n",
       "      <td>0.033413</td>\n",
       "      <td>-0.950350</td>\n",
       "      <td>0.861121</td>\n",
       "    </tr>\n",
       "    <tr>\n",
       "      <th>2020-08-10</th>\n",
       "      <td>0.557190</td>\n",
       "      <td>1.288908</td>\n",
       "      <td>-0.328370</td>\n",
       "      <td>1.842016</td>\n",
       "    </tr>\n",
       "    <tr>\n",
       "      <th>2020-08-11</th>\n",
       "      <td>-0.025799</td>\n",
       "      <td>-0.062010</td>\n",
       "      <td>0.308710</td>\n",
       "      <td>0.724017</td>\n",
       "    </tr>\n",
       "    <tr>\n",
       "      <th>2020-08-12</th>\n",
       "      <td>1.527269</td>\n",
       "      <td>-1.129029</td>\n",
       "      <td>0.805953</td>\n",
       "      <td>-1.353373</td>\n",
       "    </tr>\n",
       "    <tr>\n",
       "      <th>2020-08-13</th>\n",
       "      <td>0.696484</td>\n",
       "      <td>-0.220882</td>\n",
       "      <td>-1.300639</td>\n",
       "      <td>0.488143</td>\n",
       "    </tr>\n",
       "    <tr>\n",
       "      <th>2020-08-14</th>\n",
       "      <td>0.515347</td>\n",
       "      <td>-0.688517</td>\n",
       "      <td>-1.812345</td>\n",
       "      <td>0.820713</td>\n",
       "    </tr>\n",
       "    <tr>\n",
       "      <th>2020-08-15</th>\n",
       "      <td>-0.972182</td>\n",
       "      <td>1.093194</td>\n",
       "      <td>1.262247</td>\n",
       "      <td>0.422453</td>\n",
       "    </tr>\n",
       "    <tr>\n",
       "      <th>2020-08-16</th>\n",
       "      <td>-0.038773</td>\n",
       "      <td>-1.365450</td>\n",
       "      <td>-1.338075</td>\n",
       "      <td>-1.371267</td>\n",
       "    </tr>\n",
       "    <tr>\n",
       "      <th>2020-08-17</th>\n",
       "      <td>0.455024</td>\n",
       "      <td>0.276002</td>\n",
       "      <td>0.621480</td>\n",
       "      <td>-1.196483</td>\n",
       "    </tr>\n",
       "    <tr>\n",
       "      <th>2020-08-18</th>\n",
       "      <td>1.063829</td>\n",
       "      <td>0.077480</td>\n",
       "      <td>0.160244</td>\n",
       "      <td>-1.149531</td>\n",
       "    </tr>\n",
       "    <tr>\n",
       "      <th>2020-08-19</th>\n",
       "      <td>-0.219263</td>\n",
       "      <td>-0.767491</td>\n",
       "      <td>-0.109353</td>\n",
       "      <td>0.987076</td>\n",
       "    </tr>\n",
       "    <tr>\n",
       "      <th>2020-08-20</th>\n",
       "      <td>-0.760085</td>\n",
       "      <td>1.577133</td>\n",
       "      <td>0.099713</td>\n",
       "      <td>0.207894</td>\n",
       "    </tr>\n",
       "    <tr>\n",
       "      <th>2020-08-21</th>\n",
       "      <td>-1.096628</td>\n",
       "      <td>0.480383</td>\n",
       "      <td>0.479541</td>\n",
       "      <td>-0.008524</td>\n",
       "    </tr>\n",
       "    <tr>\n",
       "      <th>2020-08-22</th>\n",
       "      <td>1.502934</td>\n",
       "      <td>-0.765087</td>\n",
       "      <td>1.047706</td>\n",
       "      <td>-1.672914</td>\n",
       "    </tr>\n",
       "    <tr>\n",
       "      <th>2020-08-23</th>\n",
       "      <td>-0.994268</td>\n",
       "      <td>0.607074</td>\n",
       "      <td>1.268662</td>\n",
       "      <td>-0.123366</td>\n",
       "    </tr>\n",
       "  </tbody>\n",
       "</table>\n",
       "</div>"
      ],
      "text/plain": [
       "                   A         B         C         D\n",
       "2020-08-09 -0.063109  0.033413 -0.950350  0.861121\n",
       "2020-08-10  0.557190  1.288908 -0.328370  1.842016\n",
       "2020-08-11 -0.025799 -0.062010  0.308710  0.724017\n",
       "2020-08-12  1.527269 -1.129029  0.805953 -1.353373\n",
       "2020-08-13  0.696484 -0.220882 -1.300639  0.488143\n",
       "2020-08-14  0.515347 -0.688517 -1.812345  0.820713\n",
       "2020-08-15 -0.972182  1.093194  1.262247  0.422453\n",
       "2020-08-16 -0.038773 -1.365450 -1.338075 -1.371267\n",
       "2020-08-17  0.455024  0.276002  0.621480 -1.196483\n",
       "2020-08-18  1.063829  0.077480  0.160244 -1.149531\n",
       "2020-08-19 -0.219263 -0.767491 -0.109353  0.987076\n",
       "2020-08-20 -0.760085  1.577133  0.099713  0.207894\n",
       "2020-08-21 -1.096628  0.480383  0.479541 -0.008524\n",
       "2020-08-22  1.502934 -0.765087  1.047706 -1.672914\n",
       "2020-08-23 -0.994268  0.607074  1.268662 -0.123366"
      ]
     },
     "execution_count": 17,
     "metadata": {},
     "output_type": "execute_result"
    }
   ],
   "source": [
    "df.sort_index(axis=1,ascending = True)"
   ]
  },
  {
   "cell_type": "code",
   "execution_count": 20,
   "metadata": {},
   "outputs": [
    {
     "data": {
      "text/html": [
       "<div>\n",
       "<style scoped>\n",
       "    .dataframe tbody tr th:only-of-type {\n",
       "        vertical-align: middle;\n",
       "    }\n",
       "\n",
       "    .dataframe tbody tr th {\n",
       "        vertical-align: top;\n",
       "    }\n",
       "\n",
       "    .dataframe thead th {\n",
       "        text-align: right;\n",
       "    }\n",
       "</style>\n",
       "<table border=\"1\" class=\"dataframe\">\n",
       "  <thead>\n",
       "    <tr style=\"text-align: right;\">\n",
       "      <th></th>\n",
       "      <th>A</th>\n",
       "      <th>B</th>\n",
       "      <th>C</th>\n",
       "      <th>D</th>\n",
       "    </tr>\n",
       "  </thead>\n",
       "  <tbody>\n",
       "    <tr>\n",
       "      <th>2020-08-22</th>\n",
       "      <td>1.502934</td>\n",
       "      <td>-0.765087</td>\n",
       "      <td>1.047706</td>\n",
       "      <td>-1.672914</td>\n",
       "    </tr>\n",
       "    <tr>\n",
       "      <th>2020-08-16</th>\n",
       "      <td>-0.038773</td>\n",
       "      <td>-1.365450</td>\n",
       "      <td>-1.338075</td>\n",
       "      <td>-1.371267</td>\n",
       "    </tr>\n",
       "    <tr>\n",
       "      <th>2020-08-12</th>\n",
       "      <td>1.527269</td>\n",
       "      <td>-1.129029</td>\n",
       "      <td>0.805953</td>\n",
       "      <td>-1.353373</td>\n",
       "    </tr>\n",
       "    <tr>\n",
       "      <th>2020-08-17</th>\n",
       "      <td>0.455024</td>\n",
       "      <td>0.276002</td>\n",
       "      <td>0.621480</td>\n",
       "      <td>-1.196483</td>\n",
       "    </tr>\n",
       "    <tr>\n",
       "      <th>2020-08-18</th>\n",
       "      <td>1.063829</td>\n",
       "      <td>0.077480</td>\n",
       "      <td>0.160244</td>\n",
       "      <td>-1.149531</td>\n",
       "    </tr>\n",
       "    <tr>\n",
       "      <th>2020-08-23</th>\n",
       "      <td>-0.994268</td>\n",
       "      <td>0.607074</td>\n",
       "      <td>1.268662</td>\n",
       "      <td>-0.123366</td>\n",
       "    </tr>\n",
       "    <tr>\n",
       "      <th>2020-08-21</th>\n",
       "      <td>-1.096628</td>\n",
       "      <td>0.480383</td>\n",
       "      <td>0.479541</td>\n",
       "      <td>-0.008524</td>\n",
       "    </tr>\n",
       "    <tr>\n",
       "      <th>2020-08-20</th>\n",
       "      <td>-0.760085</td>\n",
       "      <td>1.577133</td>\n",
       "      <td>0.099713</td>\n",
       "      <td>0.207894</td>\n",
       "    </tr>\n",
       "    <tr>\n",
       "      <th>2020-08-15</th>\n",
       "      <td>-0.972182</td>\n",
       "      <td>1.093194</td>\n",
       "      <td>1.262247</td>\n",
       "      <td>0.422453</td>\n",
       "    </tr>\n",
       "    <tr>\n",
       "      <th>2020-08-13</th>\n",
       "      <td>0.696484</td>\n",
       "      <td>-0.220882</td>\n",
       "      <td>-1.300639</td>\n",
       "      <td>0.488143</td>\n",
       "    </tr>\n",
       "    <tr>\n",
       "      <th>2020-08-11</th>\n",
       "      <td>-0.025799</td>\n",
       "      <td>-0.062010</td>\n",
       "      <td>0.308710</td>\n",
       "      <td>0.724017</td>\n",
       "    </tr>\n",
       "    <tr>\n",
       "      <th>2020-08-14</th>\n",
       "      <td>0.515347</td>\n",
       "      <td>-0.688517</td>\n",
       "      <td>-1.812345</td>\n",
       "      <td>0.820713</td>\n",
       "    </tr>\n",
       "    <tr>\n",
       "      <th>2020-08-09</th>\n",
       "      <td>-0.063109</td>\n",
       "      <td>0.033413</td>\n",
       "      <td>-0.950350</td>\n",
       "      <td>0.861121</td>\n",
       "    </tr>\n",
       "    <tr>\n",
       "      <th>2020-08-19</th>\n",
       "      <td>-0.219263</td>\n",
       "      <td>-0.767491</td>\n",
       "      <td>-0.109353</td>\n",
       "      <td>0.987076</td>\n",
       "    </tr>\n",
       "    <tr>\n",
       "      <th>2020-08-10</th>\n",
       "      <td>0.557190</td>\n",
       "      <td>1.288908</td>\n",
       "      <td>-0.328370</td>\n",
       "      <td>1.842016</td>\n",
       "    </tr>\n",
       "  </tbody>\n",
       "</table>\n",
       "</div>"
      ],
      "text/plain": [
       "                   A         B         C         D\n",
       "2020-08-22  1.502934 -0.765087  1.047706 -1.672914\n",
       "2020-08-16 -0.038773 -1.365450 -1.338075 -1.371267\n",
       "2020-08-12  1.527269 -1.129029  0.805953 -1.353373\n",
       "2020-08-17  0.455024  0.276002  0.621480 -1.196483\n",
       "2020-08-18  1.063829  0.077480  0.160244 -1.149531\n",
       "2020-08-23 -0.994268  0.607074  1.268662 -0.123366\n",
       "2020-08-21 -1.096628  0.480383  0.479541 -0.008524\n",
       "2020-08-20 -0.760085  1.577133  0.099713  0.207894\n",
       "2020-08-15 -0.972182  1.093194  1.262247  0.422453\n",
       "2020-08-13  0.696484 -0.220882 -1.300639  0.488143\n",
       "2020-08-11 -0.025799 -0.062010  0.308710  0.724017\n",
       "2020-08-14  0.515347 -0.688517 -1.812345  0.820713\n",
       "2020-08-09 -0.063109  0.033413 -0.950350  0.861121\n",
       "2020-08-19 -0.219263 -0.767491 -0.109353  0.987076\n",
       "2020-08-10  0.557190  1.288908 -0.328370  1.842016"
      ]
     },
     "execution_count": 20,
     "metadata": {},
     "output_type": "execute_result"
    }
   ],
   "source": [
    "df.sort_values(by='D')"
   ]
  },
  {
   "cell_type": "code",
   "execution_count": 21,
   "metadata": {},
   "outputs": [
    {
     "data": {
      "text/plain": [
       "2020-08-09   -0.950350\n",
       "2020-08-10   -0.328370\n",
       "2020-08-11    0.308710\n",
       "2020-08-12    0.805953\n",
       "2020-08-13   -1.300639\n",
       "2020-08-14   -1.812345\n",
       "2020-08-15    1.262247\n",
       "2020-08-16   -1.338075\n",
       "2020-08-17    0.621480\n",
       "2020-08-18    0.160244\n",
       "2020-08-19   -0.109353\n",
       "2020-08-20    0.099713\n",
       "2020-08-21    0.479541\n",
       "2020-08-22    1.047706\n",
       "2020-08-23    1.268662\n",
       "Freq: D, Name: C, dtype: float64"
      ]
     },
     "execution_count": 21,
     "metadata": {},
     "output_type": "execute_result"
    }
   ],
   "source": [
    "df['C']"
   ]
  },
  {
   "cell_type": "markdown",
   "metadata": {},
   "source": [
    "Slicing the rows"
   ]
  },
  {
   "cell_type": "code",
   "execution_count": 22,
   "metadata": {},
   "outputs": [
    {
     "data": {
      "text/html": [
       "<div>\n",
       "<style scoped>\n",
       "    .dataframe tbody tr th:only-of-type {\n",
       "        vertical-align: middle;\n",
       "    }\n",
       "\n",
       "    .dataframe tbody tr th {\n",
       "        vertical-align: top;\n",
       "    }\n",
       "\n",
       "    .dataframe thead th {\n",
       "        text-align: right;\n",
       "    }\n",
       "</style>\n",
       "<table border=\"1\" class=\"dataframe\">\n",
       "  <thead>\n",
       "    <tr style=\"text-align: right;\">\n",
       "      <th></th>\n",
       "      <th>A</th>\n",
       "      <th>B</th>\n",
       "      <th>C</th>\n",
       "      <th>D</th>\n",
       "    </tr>\n",
       "  </thead>\n",
       "  <tbody>\n",
       "    <tr>\n",
       "      <th>2020-08-09</th>\n",
       "      <td>-0.063109</td>\n",
       "      <td>0.033413</td>\n",
       "      <td>-0.95035</td>\n",
       "      <td>0.861121</td>\n",
       "    </tr>\n",
       "    <tr>\n",
       "      <th>2020-08-10</th>\n",
       "      <td>0.557190</td>\n",
       "      <td>1.288908</td>\n",
       "      <td>-0.32837</td>\n",
       "      <td>1.842016</td>\n",
       "    </tr>\n",
       "    <tr>\n",
       "      <th>2020-08-11</th>\n",
       "      <td>-0.025799</td>\n",
       "      <td>-0.062010</td>\n",
       "      <td>0.30871</td>\n",
       "      <td>0.724017</td>\n",
       "    </tr>\n",
       "  </tbody>\n",
       "</table>\n",
       "</div>"
      ],
      "text/plain": [
       "                   A         B        C         D\n",
       "2020-08-09 -0.063109  0.033413 -0.95035  0.861121\n",
       "2020-08-10  0.557190  1.288908 -0.32837  1.842016\n",
       "2020-08-11 -0.025799 -0.062010  0.30871  0.724017"
      ]
     },
     "execution_count": 22,
     "metadata": {},
     "output_type": "execute_result"
    }
   ],
   "source": [
    "df[0:3]"
   ]
  },
  {
   "cell_type": "markdown",
   "metadata": {},
   "source": [
    "Selecting data using label"
   ]
  },
  {
   "cell_type": "code",
   "execution_count": 25,
   "metadata": {},
   "outputs": [
    {
     "data": {
      "text/plain": [
       "A   -0.063109\n",
       "B    0.033413\n",
       "C   -0.950350\n",
       "D    0.861121\n",
       "Name: 2020-08-09 00:00:00, dtype: float64"
      ]
     },
     "execution_count": 25,
     "metadata": {},
     "output_type": "execute_result"
    }
   ],
   "source": [
    "df.loc[d[0]]"
   ]
  },
  {
   "cell_type": "markdown",
   "metadata": {},
   "source": [
    "Select Multiaccess using labels"
   ]
  },
  {
   "cell_type": "code",
   "execution_count": 26,
   "metadata": {},
   "outputs": [
    {
     "data": {
      "text/html": [
       "<div>\n",
       "<style scoped>\n",
       "    .dataframe tbody tr th:only-of-type {\n",
       "        vertical-align: middle;\n",
       "    }\n",
       "\n",
       "    .dataframe tbody tr th {\n",
       "        vertical-align: top;\n",
       "    }\n",
       "\n",
       "    .dataframe thead th {\n",
       "        text-align: right;\n",
       "    }\n",
       "</style>\n",
       "<table border=\"1\" class=\"dataframe\">\n",
       "  <thead>\n",
       "    <tr style=\"text-align: right;\">\n",
       "      <th></th>\n",
       "      <th>A</th>\n",
       "      <th>C</th>\n",
       "    </tr>\n",
       "  </thead>\n",
       "  <tbody>\n",
       "    <tr>\n",
       "      <th>2020-08-09</th>\n",
       "      <td>-0.063109</td>\n",
       "      <td>-0.950350</td>\n",
       "    </tr>\n",
       "    <tr>\n",
       "      <th>2020-08-10</th>\n",
       "      <td>0.557190</td>\n",
       "      <td>-0.328370</td>\n",
       "    </tr>\n",
       "    <tr>\n",
       "      <th>2020-08-11</th>\n",
       "      <td>-0.025799</td>\n",
       "      <td>0.308710</td>\n",
       "    </tr>\n",
       "    <tr>\n",
       "      <th>2020-08-12</th>\n",
       "      <td>1.527269</td>\n",
       "      <td>0.805953</td>\n",
       "    </tr>\n",
       "    <tr>\n",
       "      <th>2020-08-13</th>\n",
       "      <td>0.696484</td>\n",
       "      <td>-1.300639</td>\n",
       "    </tr>\n",
       "    <tr>\n",
       "      <th>2020-08-14</th>\n",
       "      <td>0.515347</td>\n",
       "      <td>-1.812345</td>\n",
       "    </tr>\n",
       "    <tr>\n",
       "      <th>2020-08-15</th>\n",
       "      <td>-0.972182</td>\n",
       "      <td>1.262247</td>\n",
       "    </tr>\n",
       "    <tr>\n",
       "      <th>2020-08-16</th>\n",
       "      <td>-0.038773</td>\n",
       "      <td>-1.338075</td>\n",
       "    </tr>\n",
       "    <tr>\n",
       "      <th>2020-08-17</th>\n",
       "      <td>0.455024</td>\n",
       "      <td>0.621480</td>\n",
       "    </tr>\n",
       "    <tr>\n",
       "      <th>2020-08-18</th>\n",
       "      <td>1.063829</td>\n",
       "      <td>0.160244</td>\n",
       "    </tr>\n",
       "    <tr>\n",
       "      <th>2020-08-19</th>\n",
       "      <td>-0.219263</td>\n",
       "      <td>-0.109353</td>\n",
       "    </tr>\n",
       "    <tr>\n",
       "      <th>2020-08-20</th>\n",
       "      <td>-0.760085</td>\n",
       "      <td>0.099713</td>\n",
       "    </tr>\n",
       "    <tr>\n",
       "      <th>2020-08-21</th>\n",
       "      <td>-1.096628</td>\n",
       "      <td>0.479541</td>\n",
       "    </tr>\n",
       "    <tr>\n",
       "      <th>2020-08-22</th>\n",
       "      <td>1.502934</td>\n",
       "      <td>1.047706</td>\n",
       "    </tr>\n",
       "    <tr>\n",
       "      <th>2020-08-23</th>\n",
       "      <td>-0.994268</td>\n",
       "      <td>1.268662</td>\n",
       "    </tr>\n",
       "  </tbody>\n",
       "</table>\n",
       "</div>"
      ],
      "text/plain": [
       "                   A         C\n",
       "2020-08-09 -0.063109 -0.950350\n",
       "2020-08-10  0.557190 -0.328370\n",
       "2020-08-11 -0.025799  0.308710\n",
       "2020-08-12  1.527269  0.805953\n",
       "2020-08-13  0.696484 -1.300639\n",
       "2020-08-14  0.515347 -1.812345\n",
       "2020-08-15 -0.972182  1.262247\n",
       "2020-08-16 -0.038773 -1.338075\n",
       "2020-08-17  0.455024  0.621480\n",
       "2020-08-18  1.063829  0.160244\n",
       "2020-08-19 -0.219263 -0.109353\n",
       "2020-08-20 -0.760085  0.099713\n",
       "2020-08-21 -1.096628  0.479541\n",
       "2020-08-22  1.502934  1.047706\n",
       "2020-08-23 -0.994268  1.268662"
      ]
     },
     "execution_count": 26,
     "metadata": {},
     "output_type": "execute_result"
    }
   ],
   "source": [
    "df.loc[:,['A','C']]"
   ]
  },
  {
   "cell_type": "code",
   "execution_count": 31,
   "metadata": {},
   "outputs": [
    {
     "data": {
      "text/plain": [
       "D   -0.008524\n",
       "C    0.479541\n",
       "Name: 2020-08-21 00:00:00, dtype: float64"
      ]
     },
     "execution_count": 31,
     "metadata": {},
     "output_type": "execute_result"
    }
   ],
   "source": [
    "df.loc['20200821',['D','C']]"
   ]
  },
  {
   "cell_type": "code",
   "execution_count": 34,
   "metadata": {},
   "outputs": [
    {
     "data": {
      "text/plain": [
       "D    0.861121\n",
       "A   -0.063109\n",
       "Name: 2020-08-09 00:00:00, dtype: float64"
      ]
     },
     "execution_count": 34,
     "metadata": {},
     "output_type": "execute_result"
    }
   ],
   "source": [
    "#HOw to get scalar value\n",
    "df.loc[d[0],['D','A']]"
   ]
  },
  {
   "cell_type": "code",
   "execution_count": 36,
   "metadata": {},
   "outputs": [],
   "source": [
    "df2=df.reindex(index=d[0:4], columns=list(df.columns)+['E'])"
   ]
  },
  {
   "cell_type": "code",
   "execution_count": 37,
   "metadata": {},
   "outputs": [],
   "source": [
    "df2.loc[d[0]:d[1],'E']=1"
   ]
  },
  {
   "cell_type": "code",
   "execution_count": 38,
   "metadata": {},
   "outputs": [
    {
     "data": {
      "text/html": [
       "<div>\n",
       "<style scoped>\n",
       "    .dataframe tbody tr th:only-of-type {\n",
       "        vertical-align: middle;\n",
       "    }\n",
       "\n",
       "    .dataframe tbody tr th {\n",
       "        vertical-align: top;\n",
       "    }\n",
       "\n",
       "    .dataframe thead th {\n",
       "        text-align: right;\n",
       "    }\n",
       "</style>\n",
       "<table border=\"1\" class=\"dataframe\">\n",
       "  <thead>\n",
       "    <tr style=\"text-align: right;\">\n",
       "      <th></th>\n",
       "      <th>A</th>\n",
       "      <th>B</th>\n",
       "      <th>C</th>\n",
       "      <th>D</th>\n",
       "      <th>E</th>\n",
       "    </tr>\n",
       "  </thead>\n",
       "  <tbody>\n",
       "    <tr>\n",
       "      <th>2020-08-09</th>\n",
       "      <td>-0.063109</td>\n",
       "      <td>0.033413</td>\n",
       "      <td>-0.950350</td>\n",
       "      <td>0.861121</td>\n",
       "      <td>1.0</td>\n",
       "    </tr>\n",
       "    <tr>\n",
       "      <th>2020-08-10</th>\n",
       "      <td>0.557190</td>\n",
       "      <td>1.288908</td>\n",
       "      <td>-0.328370</td>\n",
       "      <td>1.842016</td>\n",
       "      <td>1.0</td>\n",
       "    </tr>\n",
       "    <tr>\n",
       "      <th>2020-08-11</th>\n",
       "      <td>-0.025799</td>\n",
       "      <td>-0.062010</td>\n",
       "      <td>0.308710</td>\n",
       "      <td>0.724017</td>\n",
       "      <td>NaN</td>\n",
       "    </tr>\n",
       "    <tr>\n",
       "      <th>2020-08-12</th>\n",
       "      <td>1.527269</td>\n",
       "      <td>-1.129029</td>\n",
       "      <td>0.805953</td>\n",
       "      <td>-1.353373</td>\n",
       "      <td>NaN</td>\n",
       "    </tr>\n",
       "  </tbody>\n",
       "</table>\n",
       "</div>"
      ],
      "text/plain": [
       "                   A         B         C         D    E\n",
       "2020-08-09 -0.063109  0.033413 -0.950350  0.861121  1.0\n",
       "2020-08-10  0.557190  1.288908 -0.328370  1.842016  1.0\n",
       "2020-08-11 -0.025799 -0.062010  0.308710  0.724017  NaN\n",
       "2020-08-12  1.527269 -1.129029  0.805953 -1.353373  NaN"
      ]
     },
     "execution_count": 38,
     "metadata": {},
     "output_type": "execute_result"
    }
   ],
   "source": [
    "df2"
   ]
  },
  {
   "cell_type": "code",
   "execution_count": 39,
   "metadata": {},
   "outputs": [
    {
     "data": {
      "text/html": [
       "<div>\n",
       "<style scoped>\n",
       "    .dataframe tbody tr th:only-of-type {\n",
       "        vertical-align: middle;\n",
       "    }\n",
       "\n",
       "    .dataframe tbody tr th {\n",
       "        vertical-align: top;\n",
       "    }\n",
       "\n",
       "    .dataframe thead th {\n",
       "        text-align: right;\n",
       "    }\n",
       "</style>\n",
       "<table border=\"1\" class=\"dataframe\">\n",
       "  <thead>\n",
       "    <tr style=\"text-align: right;\">\n",
       "      <th></th>\n",
       "      <th>A</th>\n",
       "      <th>B</th>\n",
       "      <th>C</th>\n",
       "      <th>D</th>\n",
       "      <th>E</th>\n",
       "    </tr>\n",
       "  </thead>\n",
       "  <tbody>\n",
       "    <tr>\n",
       "      <th>2020-08-09</th>\n",
       "      <td>False</td>\n",
       "      <td>False</td>\n",
       "      <td>False</td>\n",
       "      <td>False</td>\n",
       "      <td>False</td>\n",
       "    </tr>\n",
       "    <tr>\n",
       "      <th>2020-08-10</th>\n",
       "      <td>False</td>\n",
       "      <td>False</td>\n",
       "      <td>False</td>\n",
       "      <td>False</td>\n",
       "      <td>False</td>\n",
       "    </tr>\n",
       "    <tr>\n",
       "      <th>2020-08-11</th>\n",
       "      <td>False</td>\n",
       "      <td>False</td>\n",
       "      <td>False</td>\n",
       "      <td>False</td>\n",
       "      <td>True</td>\n",
       "    </tr>\n",
       "    <tr>\n",
       "      <th>2020-08-12</th>\n",
       "      <td>False</td>\n",
       "      <td>False</td>\n",
       "      <td>False</td>\n",
       "      <td>False</td>\n",
       "      <td>True</td>\n",
       "    </tr>\n",
       "  </tbody>\n",
       "</table>\n",
       "</div>"
      ],
      "text/plain": [
       "                A      B      C      D      E\n",
       "2020-08-09  False  False  False  False  False\n",
       "2020-08-10  False  False  False  False  False\n",
       "2020-08-11  False  False  False  False   True\n",
       "2020-08-12  False  False  False  False   True"
      ]
     },
     "execution_count": 39,
     "metadata": {},
     "output_type": "execute_result"
    }
   ],
   "source": [
    "df2.isnull()"
   ]
  },
  {
   "cell_type": "code",
   "execution_count": null,
   "metadata": {},
   "outputs": [],
   "source": []
  }
 ],
 "metadata": {
  "kernelspec": {
   "display_name": "Python 3",
   "language": "python",
   "name": "python3"
  },
  "language_info": {
   "codemirror_mode": {
    "name": "ipython",
    "version": 3
   },
   "file_extension": ".py",
   "mimetype": "text/x-python",
   "name": "python",
   "nbconvert_exporter": "python",
   "pygments_lexer": "ipython3",
   "version": "3.7.6"
  }
 },
 "nbformat": 4,
 "nbformat_minor": 4
}
